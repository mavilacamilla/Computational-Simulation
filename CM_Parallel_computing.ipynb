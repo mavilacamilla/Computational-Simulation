{
  "nbformat": 4,
  "nbformat_minor": 0,
  "metadata": {
    "colab": {
      "provenance": [],
      "toc_visible": true,
      "include_colab_link": true
    },
    "kernelspec": {
      "name": "python3",
      "display_name": "Python 3"
    },
    "language_info": {
      "name": "python"
    }
  },
  "cells": [
    {
      "cell_type": "markdown",
      "metadata": {
        "id": "view-in-github",
        "colab_type": "text"
      },
      "source": [
        "<a href=\"https://colab.research.google.com/github/mavilacamilla/Computational-Simulation/blob/main/CM_Parallel_computing.ipynb\" target=\"_parent\"><img src=\"https://colab.research.google.com/assets/colab-badge.svg\" alt=\"Open In Colab\"/></a>"
      ]
    },
    {
      "cell_type": "markdown",
      "source": [
        "# Parallel computing\n",
        "\n",
        "When we want to perform very time-consuming analyses, it's useful to know some tricks to speed up computation.\n",
        "\n",
        "### 1. Optimize\n",
        "One way to do it is to optimize your code:\n",
        "* try to write as much as you can as array operations, instead of using `for` loops,\n",
        "* don't keep a lot of variables in memory that you won't use,\n",
        "* reuse the same arrays (especially if large) instead of creating new ones,\n",
        "* avoid repeating the same calculations more than once,\n",
        "* and whenever possible, try to write \"de-nested\" code (that is, avoid a lot of nested if/else clauses).\n",
        "\n",
        "For the kind of analyses we have been running, there's not much we can do in terms of the above, and optimization only helps up to a point - after that, gains are minimal even if you put a lot of effort into it.\n",
        "\n",
        "### 2. Use faster programming languages\n",
        "So a second way would be to use a faster, low-level, programming language to write your functions, such as C or Fortran. Writing your whole code in these languages is very painful, and can take a lot longer than waiting for your code to run.\n",
        "\n",
        "A nice solution is to write just the \"core\" function of your code, and use this faster version. For instance, when solving ODE's, you could write just the function that calculates the equations of the system in C and use it inside your Python code. To do that, you need to learn both how to code your function in C, and how to compile it in a way that interfaces with Python. That's a bit tricky, and depends on a lot of tools you need to install in your computer, so we won't cover it here.\n",
        "\n",
        "### 3. Parallelize your code\n",
        "Most computers now have several \"cores\", that is, they have multiple CPUs and thus are able to run different processes at the same time (in the before times, programs running in a single CPU \"at the same time\" were actually just switching between them so quickly you didn't notice).\n",
        "\n",
        "The idea of parallelization is to break your analyzes into many different pieces (for instance, sets of parameters) that can be run more or less independently of each other, and then set up your code to run them in exactly that way, taking advantage of the multiple CPUs you have available. So if you have 4 CPUs, you can make the same calculations 4 times faster! In practice you never get exactly 4 times, because setting up those 4 processes and distributing the processes and so on take a bit of time.\n",
        "\n",
        "Parallelization can be tricky if you need the different processes to communicate between themselves (the result of one affects the other). Fortunately, many problems we deal with are of the type called **embarassingly parallel**: all processes are completely independent from the others.\n",
        "\n",
        "Here we'll see a practical way of doing that in Python, using the built-in library **multiprocessing**."
      ],
      "metadata": {
        "id": "cDeg-SSgSjWO"
      }
    },
    {
      "cell_type": "code",
      "execution_count": null,
      "metadata": {
        "id": "nQAFMjkySX-P"
      },
      "outputs": [],
      "source": [
        "from time import sleep\n",
        "import multiprocessing as mp\n",
        "\n",
        "def delayed_square(x):\n",
        "    # sleep tells the computer to wait for this time (in seconds)\n",
        "    sleep(0.2)\n",
        "    return x*x"
      ]
    },
    {
      "cell_type": "code",
      "source": [
        "%%time\n",
        "# %% time measures the time taken to run this cell\n",
        "data = list(range(8))\n",
        "result = list(map(delayed_square, data))\n",
        "print(result)"
      ],
      "metadata": {
        "id": "AYq2aAtSYvty",
        "colab": {
          "base_uri": "https://localhost:8080/"
        },
        "outputId": "538b79fb-c22c-4794-9763-11f1d257eb7a"
      },
      "execution_count": null,
      "outputs": [
        {
          "output_type": "stream",
          "name": "stdout",
          "text": [
            "[0, 1, 4, 9, 16, 25, 36, 49]\n",
            "CPU times: user 4.82 ms, sys: 543 µs, total: 5.36 ms\n",
            "Wall time: 1.6 s\n"
          ]
        }
      ]
    },
    {
      "cell_type": "code",
      "source": [
        "# let's count how many CPUs we have available\n",
        "mp.cpu_count()"
      ],
      "metadata": {
        "id": "-sVSlybpZf5z",
        "colab": {
          "base_uri": "https://localhost:8080/"
        },
        "outputId": "3bf8dede-ab4b-401e-90b3-cfe9f12ce100"
      },
      "execution_count": null,
      "outputs": [
        {
          "output_type": "execute_result",
          "data": {
            "text/plain": [
              "2"
            ]
          },
          "metadata": {},
          "execution_count": 3
        }
      ]
    },
    {
      "cell_type": "code",
      "source": [
        "%%time\n",
        "data = list(range(8))\n",
        "\n",
        "# Pool() creates a pool of processes that can work in parallel\n",
        "# it automatically detects the number of CPUs, but you can set it by hand,\n",
        "# too with\n",
        "# p = mp.Pool(processes=2)\n",
        "# Note: using more processes than your number of CPUs is counterproductive! But\n",
        "# if you have a lot (like 8 or 16) it's useful to leave one or two CPUs free to\n",
        "# perform other background tasks.\n",
        "\n",
        "p = mp.Pool()\n",
        "result = p.map(delayed_square, data)\n",
        "print(result)"
      ],
      "metadata": {
        "id": "fphg2NZnZFL3",
        "colab": {
          "base_uri": "https://localhost:8080/"
        },
        "outputId": "54efc384-0545-44bc-edde-7c05e6a4bdc6"
      },
      "execution_count": null,
      "outputs": [
        {
          "output_type": "stream",
          "name": "stdout",
          "text": [
            "[0, 1, 4, 9, 16, 25, 36, 49]\n",
            "CPU times: user 24.7 ms, sys: 15.1 ms, total: 39.7 ms\n",
            "Wall time: 887 ms\n"
          ]
        }
      ]
    },
    {
      "cell_type": "code",
      "source": [
        "# after calculations are done, we close the pool\n",
        "# this is done automatically when the program finishes, but in a notebook this\n",
        "# is less clear\n",
        "p.close()"
      ],
      "metadata": {
        "id": "K5eELOdCgljm"
      },
      "execution_count": null,
      "outputs": []
    },
    {
      "cell_type": "markdown",
      "source": [
        "## A practical example\n",
        "\n",
        "Let's try do adapt the code from last class to explore a model over a single parameter. For each parameter, we want to find the minimum and maximum values of each variable. The results for each parameter don't depend on the results for other parameters: this is a typical embarassingly parallel problem.\n",
        "\n",
        "We first do everything without parallelization."
      ],
      "metadata": {
        "id": "DULN1y6Oabcf"
      }
    },
    {
      "cell_type": "code",
      "source": [
        "import numpy as np\n",
        "from scipy.integrate import odeint\n",
        "from matplotlib import pyplot as pt\n",
        "\n",
        "def RM(y, t, r, K, a, h, e, d):\n",
        "    return np.array([ y[0] * ( r*(1-y[0]/K) - a*y[1]/(1+a*h*y[0]) ),\n",
        "                      y[1] * (e*a*y[0]/(1+a*h*y[0]) - d) ])\n",
        "\n",
        "t = np.arange(0, 6000, 1.)\n",
        "# initial condition\n",
        "y0 = np.array([1, 1.])"
      ],
      "metadata": {
        "id": "goH2B3qmdx8A"
      },
      "execution_count": null,
      "outputs": []
    },
    {
      "cell_type": "code",
      "source": [
        "# range of values of K\n",
        "KK = np.arange(.5, 20, .5)\n",
        "\n",
        "ymin = []\n",
        "ymax = []\n",
        "# loop over the values of K (KK)\n",
        "for K in KK:\n",
        "    # redefine the parameters using the new one\n",
        "    # order: r,  K,  a,  h,   e,   d\n",
        "    pars =  (1., K, 1., 0.1, 0.1, 0.1)\n",
        "    y = odeint(RM, y0, t, pars)\n",
        "    ymin.append(y[-1000:,:].min(axis=0))\n",
        "    ymax.append(y[-1000:,:].max(axis=0))\n",
        "# convert the lists into arrays\n",
        "ymin = np.array(ymin)\n",
        "ymax = np.array(ymax)"
      ],
      "metadata": {
        "id": "jDoHqqC7eF8X"
      },
      "execution_count": null,
      "outputs": []
    },
    {
      "cell_type": "code",
      "source": [
        "# plot\n",
        "pt.plot(KK, ymin[:,0], 'g', label='resource')\n",
        "pt.plot(KK, ymax[:,0], 'g')\n",
        "pt.plot(KK, ymin[:,1], 'b', label='consumer')\n",
        "pt.plot(KK, ymax[:,1], 'b')\n",
        "pt.xlabel('$K$')\n",
        "pt.ylabel('min/max populations')\n",
        "pt.legend(loc='best')"
      ],
      "metadata": {
        "id": "Qzerwtw0fMXE",
        "colab": {
          "base_uri": "https://localhost:8080/",
          "height": 470
        },
        "outputId": "db515845-093d-4b6f-b315-2cf8f845b104"
      },
      "execution_count": null,
      "outputs": [
        {
          "output_type": "execute_result",
          "data": {
            "text/plain": [
              "<matplotlib.legend.Legend at 0x7d78f9009780>"
            ]
          },
          "metadata": {},
          "execution_count": 8
        },
        {
          "output_type": "display_data",
          "data": {
            "text/plain": [
              "<Figure size 640x480 with 1 Axes>"
            ],
            "image/png": "[encoded data removed]"
          },
          "metadata": {}
        }
      ]
    },
    {
      "cell_type": "code",
      "source": [
        "# let's rework this example to write it using map()\n",
        "def helper(K):\n",
        "    pars =  (1., K, 1., 0.1, 0.1, 0.1)\n",
        "    y = odeint(RM, y0, t, pars)\n",
        "    ymin = y[-1000:,:].min(axis=0)\n",
        "    ymax = y[-1000:,:].max(axis=0)\n",
        "    return (ymin, ymax)\n"
      ],
      "metadata": {
        "id": "cflCbdbjd9aA"
      },
      "execution_count": null,
      "outputs": []
    },
    {
      "cell_type": "code",
      "source": [
        "%%time\n",
        "KK = np.arange(.5, 20, .5)\n",
        "results = np.array(list(map(helper, KK)))"
      ],
      "metadata": {
        "id": "P1TFXgLVfj7K"
      },
      "execution_count": null,
      "outputs": []
    },
    {
      "cell_type": "code",
      "source": [
        "print(results.shape)\n",
        "print(results[0,:,:])"
      ],
      "metadata": {
        "id": "1X0v7DHMfauD"
      },
      "execution_count": null,
      "outputs": []
    },
    {
      "cell_type": "code",
      "source": [
        "# plotting\n",
        "pt.plot(KK, results[:,0,0], 'g', label='resource')\n",
        "pt.plot(KK, results[:,1,0], 'g')\n",
        "pt.plot(KK, results[:,0,1], 'b', label='consumer')\n",
        "pt.plot(KK, results[:,1,1], 'b')\n",
        "pt.xlabel('$K$')\n",
        "pt.ylabel('min/max populations')\n",
        "pt.legend(loc='best')"
      ],
      "metadata": {
        "id": "u3GyN4hcexgF"
      },
      "execution_count": null,
      "outputs": []
    },
    {
      "cell_type": "markdown",
      "source": [
        "### Parallel version"
      ],
      "metadata": {
        "id": "rGtL2RcxgXnA"
      }
    },
    {
      "cell_type": "code",
      "source": [
        "%%time\n",
        "KK = np.arange(.5, 20, .5)\n",
        "p = mp.Pool()\n",
        "results = np.array(list(p.map(helper, KK)))\n",
        "p.close()"
      ],
      "metadata": {
        "id": "42ITWzV5gc6d"
      },
      "execution_count": null,
      "outputs": []
    },
    {
      "cell_type": "code",
      "source": [
        "print(results.shape)\n",
        "print(results[0,:,:])"
      ],
      "metadata": {
        "id": "Ph60PQmtg_C8"
      },
      "execution_count": null,
      "outputs": []
    },
    {
      "cell_type": "code",
      "source": [
        "# plotting\n",
        "pt.plot(KK, results[:,0,0], 'g', label='resource')\n",
        "pt.plot(KK, results[:,1,0], 'g')\n",
        "pt.plot(KK, results[:,0,1], 'b', label='consumer')\n",
        "pt.plot(KK, results[:,1,1], 'b')\n",
        "pt.xlabel('$K$')\n",
        "pt.ylabel('min/max populations')\n",
        "pt.legend(loc='best')"
      ],
      "metadata": {
        "id": "IVj-92wchEhA"
      },
      "execution_count": null,
      "outputs": []
    },
    {
      "cell_type": "markdown",
      "source": [
        "## A more complicated problem\n",
        "\n",
        "Now let's try to do the same with the case when two parameters were varied. Now the issue is that our function will have to take two parameters."
      ],
      "metadata": {
        "id": "8x81_zpGdggp"
      }
    },
    {
      "cell_type": "code",
      "source": [
        "import numpy as np\n",
        "from scipy.integrate import odeint\n",
        "from matplotlib import pyplot as pt\n",
        "\n",
        "def RM(y, t, r, K, a, h, e, d):\n",
        "    return np.array([ y[0] * ( r*(1-y[0]/K) - a*y[1]/(1+a*h*y[0]) ),\n",
        "                      y[1] * (e*a*y[0]/(1+a*h*y[0]) - d) ])\n",
        "\n",
        "def check_regime(y):\n",
        "    if y[:,1].max() < 1e-5:\n",
        "        return 1\n",
        "    elif np.all(y.max(axis=0) - y.min(axis=0) < 1e-5):\n",
        "        return 2\n",
        "    else:\n",
        "        return 3\n",
        "\n",
        "def solve_classify(a, h):\n",
        "    # order: r,  K,  a, h,   e,   d\n",
        "    pars =  (1., 10, a, h, 0.1, 0.1)\n",
        "\n",
        "    t = np.arange(0, 5000, .1)\n",
        "    y0 = np.array([0.1, 0.1])\n",
        "\n",
        "    y = odeint(RM, y0, t, pars)\n",
        "    regime = check_regime(y[-1000:,:])\n",
        "    return regime\n"
      ],
      "metadata": {
        "id": "6J3vBpnMb01p"
      },
      "execution_count": null,
      "outputs": []
    },
    {
      "cell_type": "code",
      "source": [
        "a = np.arange(0.01, 1.6, 0.1)\n",
        "h = np.arange(0.01, 0.9, 0.05)\n",
        "\n",
        "# 2d grid\n",
        "X, Y = np.meshgrid(a, h)\n",
        "\n",
        "# remember to vectorize the function!\n",
        "solve_classify_vec = np.vectorize(solve_classify)"
      ],
      "metadata": {
        "id": "l4z-E8AFcBKp"
      },
      "execution_count": null,
      "outputs": []
    },
    {
      "cell_type": "code",
      "source": [
        "%%time\n",
        "# now this takes a bit of time\n",
        "Z = solve_classify_vec(X, Y)"
      ],
      "metadata": {
        "id": "pls2z8D3cKgH"
      },
      "execution_count": null,
      "outputs": []
    },
    {
      "cell_type": "code",
      "source": [
        "# this does the plotting\n",
        "pt.pcolor(X, Y, Z)\n",
        "pt.xlabel('a')\n",
        "pt.ylabel('h')\n",
        "pt.colorbar(ticks=[1,2,3])"
      ],
      "metadata": {
        "id": "CeFTn30LcQMj"
      },
      "execution_count": null,
      "outputs": []
    },
    {
      "cell_type": "code",
      "source": [
        "%%time\n",
        "# the previous attempt was already a bit optimized by vectorization, maybe\n",
        "# this is a better comparison point?\n",
        "Z = np.zeros(X.shape)\n",
        "for i in range(Z.shape[0]):\n",
        "    for j in range(Z.shape[1]):\n",
        "        Z[i, j] = solve_classify(X[i, j], Y[i, j])"
      ],
      "metadata": {
        "id": "wagjBKSncNLE"
      },
      "execution_count": null,
      "outputs": []
    },
    {
      "cell_type": "markdown",
      "source": [
        "### Parallel version\n",
        "\n",
        "Our job was to take each pair of values (x, y) from the 2d arrays X, Y and run the function `solve_classify` on it.\n",
        "\n",
        "The `map` function takes only a single value, not a pair! If we want to pass multiple arguments, we have to use a similar function called `starmap` that passes any number of arguments, but now our list of parameters should be a **list of pairs**. There's a simple way to build that using the appropriately named function `zip`.\n",
        "\n"
      ],
      "metadata": {
        "id": "XjsRxQBVcWfP"
      }
    },
    {
      "cell_type": "code",
      "source": [
        "# using zip:\n",
        "l1 = np.arange(0, 10, 2)\n",
        "l2 = np.arange(1, 11, 2)\n",
        "print(\"l1: \", l1)\n",
        "print(\"l2: \", l2)\n",
        "print(zip(l1, l2))\n",
        "print(list(zip(l1, l2)))"
      ],
      "metadata": {
        "id": "SEfz5M4vm286"
      },
      "execution_count": null,
      "outputs": []
    },
    {
      "cell_type": "code",
      "source": [
        "# now our arrays are 2d, not lists! We have to make them 1d first\n",
        "# we do this with flatten:\n",
        "print(X)\n",
        "print(\"shape: \", X.shape)"
      ],
      "metadata": {
        "id": "SRKliFo6ndAY"
      },
      "execution_count": null,
      "outputs": []
    },
    {
      "cell_type": "code",
      "source": [
        "X_flat = X.flatten()\n",
        "print(X_flat)\n",
        "print(\"shape: \", X_flat.shape)"
      ],
      "metadata": {
        "id": "doHx4BNKns2X"
      },
      "execution_count": null,
      "outputs": []
    },
    {
      "cell_type": "code",
      "source": [
        "# we recover the original structure with reshape:\n",
        "X_orig = X_flat.reshape(X.shape)\n",
        "print(X_orig)\n",
        "print(\"shape: \", X_orig.shape)"
      ],
      "metadata": {
        "id": "ER0JU57cnwuP"
      },
      "execution_count": null,
      "outputs": []
    },
    {
      "cell_type": "markdown",
      "source": [
        "Now let's solve our problem..."
      ],
      "metadata": {
        "id": "3fmak1wfoyB7"
      }
    },
    {
      "cell_type": "code",
      "source": [
        "%%time\n",
        "p = mp.Pool()\n",
        "result = p.starmap(solve_classify, zip(X.flatten(), Y.flatten()))\n",
        "# the result is a 1d list, let's put it in the original shape\n",
        "Z = np.array(result).reshape(X.shape)\n",
        "p.close()"
      ],
      "metadata": {
        "id": "beXpqOxzdPxS"
      },
      "execution_count": null,
      "outputs": []
    },
    {
      "cell_type": "code",
      "source": [
        "# this does the plotting\n",
        "pt.pcolor(X, Y, Z)\n",
        "pt.xlabel('a')\n",
        "pt.ylabel('h')\n",
        "pt.colorbar(ticks=[1,2,3])"
      ],
      "metadata": {
        "id": "93DhBjufluDh"
      },
      "execution_count": null,
      "outputs": []
    }
  ]
}